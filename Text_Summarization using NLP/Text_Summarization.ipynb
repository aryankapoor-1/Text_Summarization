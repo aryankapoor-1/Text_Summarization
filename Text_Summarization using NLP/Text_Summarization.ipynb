{
  "nbformat": 4,
  "nbformat_minor": 0,
  "metadata": {
    "colab": {
      "provenance": []
    },
    "kernelspec": {
      "name": "python3",
      "display_name": "Python 3"
    }
  },
  "cells": [
    {
      "cell_type": "markdown",
      "metadata": {
        "id": "WYdMwvYn42jw"
      },
      "source": [
        "# **Text Summarization using NLP**\n",
        "\n",
        "\n",
        "**Text Summarization**\n",
        "\n",
        "Text summarization is the process of distilling the most important information from a source text."
      ]
    },
    {
      "cell_type": "markdown",
      "metadata": {
        "id": "QSmeHW7R6FEF"
      },
      "source": [
        "**Why automatic text summarization?**\n",
        "\n",
        "\n",
        "\n",
        "1.   Summaries reduce reading time.\n",
        "2.   When researching documents,summaries make the  selection process easier.\n",
        "3.   Automatic summarization improves the effectiveness of indexing.\n",
        "4.   Automatice summarization algorithms are less biased than human summarization.\n",
        "5.   Personalized summaries are useful in question-answering systems as they provied personalized information.\n",
        "6.   Using automatic or semi-automatic summarization systems enables commercial abstract services to increase the number of text documents they are able to process.\n",
        "\n",
        "\n",
        "\n"
      ]
    },
    {
      "cell_type": "markdown",
      "metadata": {
        "id": "s9xxDWxC-1eM"
      },
      "source": [
        "\n",
        "\n",
        "**How to do text summarization**\n",
        "\n",
        "\n",
        "*   Text cleaning\n",
        "*   Sentence tokenization\n",
        "*   Word tokenzation\n",
        "*   Word-frequency table\n",
        "*   Summarization\n",
        "\n",
        "\n",
        "\n",
        "  **Text variable**\n",
        "\n",
        "\n",
        "\n",
        "\n",
        "\n",
        "\n"
      ]
    },
    {
      "cell_type": "code",
      "metadata": {
        "id": "2JqLo7pWYD1o"
      },
      "source": [
        " text = \"\"\"\n",
        " Maria Sharapova has basically no friends as tennis players on the WTA Tour. The Russian player has no problems in openly speaking about it and in a recent interview she said: 'I don't really hide any feelings too much.\n",
        " I think everyone knows this is my job here. When I'm on the courts or when I'm on the court playing, I'm a competitor and I want to beat every single person whether they're in the locker room or across the net.\n",
        " So I'm not the one to strike up a conversation about the weather and know that in the next few minutes I have to go and try to win a tennis match.\n",
        " I'm a pretty competitive girl. I say my hellos, but I'm not sending any players flowers as well. Uhm, I'm not really friendly or close to many players.\n",
        " I have not a lot of friends away from the courts.' When she said she is not really close to a lot of players, is that something strategic that she is doing? Is it different on the men's tour than the women's tour? 'No, not at all.\n",
        " I think just because you're in the same sport doesn't mean that you have to be friends with everyone just because you're categorized, you're a tennis player, so you're going to get along with tennis players.\n",
        " I think every person has different interests. I have friends that have completely different jobs and interests, and I've met them in very different parts of my life.\n",
        " I think everyone just thinks because we're tennis players we should be the greatest of friends. But ultimately tennis is just a very small part of what we do.\n",
        " There are so many other things that we're interested in, that we do.'\n",
        " \"\"\""
      ],
      "execution_count": 33,
      "outputs": []
    },
    {
      "cell_type": "markdown",
      "metadata": {
        "id": "ICuVSNbQY-dO"
      },
      "source": [
        "\n",
        "\n",
        "# Let's Get Started with SpaCy"
      ]
    },
    {
      "cell_type": "code",
      "metadata": {
        "id": "6Ehfk3s8ZL0b"
      },
      "source": [
        "!pip install -U spacy\n",
        "!python -m spacy download en_core_web_sm"
      ],
      "execution_count": null,
      "outputs": []
    },
    {
      "cell_type": "code",
      "metadata": {
        "id": "gT1zyYMnZguO"
      },
      "source": [
        "import spacy\n",
        "from spacy.lang.en.stop_words import STOP_WORDS\n",
        "from string import punctuation"
      ],
      "execution_count": 10,
      "outputs": []
    },
    {
      "cell_type": "code",
      "metadata": {
        "id": "JrR_ipOKZ4Lp"
      },
      "source": [
        "stopwords = list(STOP_WORDS)"
      ],
      "execution_count": 11,
      "outputs": []
    },
    {
      "cell_type": "code",
      "metadata": {
        "id": "PrE3D0S6aC_s"
      },
      "source": [
        "nlp = spacy.load('en_core_web_sm')"
      ],
      "execution_count": 12,
      "outputs": []
    },
    {
      "cell_type": "code",
      "metadata": {
        "id": "RntMWU8DaQDm"
      },
      "source": [
        "doc = nlp(text)"
      ],
      "execution_count": 13,
      "outputs": []
    },
    {
      "cell_type": "code",
      "metadata": {
        "id": "Pqre-o8AaXRA",
        "outputId": "374b8e17-bd7b-416e-a6e4-93c6ca6e6222",
        "colab": {
          "base_uri": "https://localhost:8080/"
        }
      },
      "source": [
        "tokens = [token.text for token in doc]\n",
        "print(tokens)"
      ],
      "execution_count": 14,
      "outputs": [
        {
          "output_type": "stream",
          "name": "stdout",
          "text": [
            "['\\n', 'Maria', 'Sharapova', 'has', 'basically', 'no', 'friends', 'as', 'tennis', 'players', 'on', 'the', 'WTA', 'Tour', '.', 'The', 'Russian', 'player', 'has', 'no', 'problems', 'in', 'openly', 'speaking', 'about', 'it', 'and', 'in', 'a', 'recent', 'interview', 'she', 'said', ':', \"'\", 'I', 'do', \"n't\", 'really', 'hide', 'any', 'feelings', 'too', 'much', '.', '\\n', 'I', 'think', 'everyone', 'knows', 'this', 'is', 'my', 'job', 'here', '.', 'When', 'I', \"'m\", 'on', 'the', 'courts', 'or', 'when', 'I', \"'m\", 'on', 'the', 'court', 'playing', ',', 'I', \"'m\", 'a', 'competitor', 'and', 'I', 'want', 'to', 'beat', 'every', 'single', 'person', 'whether', 'they', \"'re\", 'in', 'the', 'locker', 'room', 'or', 'across', 'the', 'net', '.', '\\n', 'So', 'I', \"'m\", 'not', 'the', 'one', 'to', 'strike', 'up', 'a', 'conversation', 'about', 'the', 'weather', 'and', 'know', 'that', 'in', 'the', 'next', 'few', 'minutes', 'I', 'have', 'to', 'go', 'and', 'try', 'to', 'win', 'a', 'tennis', 'match', '.', '\\n', 'I', \"'m\", 'a', 'pretty', 'competitive', 'girl', '.', 'I', 'say', 'my', 'hellos', ',', 'but', 'I', \"'m\", 'not', 'sending', 'any', 'players', 'flowers', 'as', 'well', '.', 'Uhm', ',', 'I', \"'m\", 'not', 'really', 'friendly', 'or', 'close', 'to', 'many', 'players', '.', '\\n', 'I', 'have', 'not', 'a', 'lot', 'of', 'friends', 'away', 'from', 'the', 'courts', '.', \"'\", 'When', 'she', 'said', 'she', 'is', 'not', 'really', 'close', 'to', 'a', 'lot', 'of', 'players', ',', 'is', 'that', 'something', 'strategic', 'that', 'she', 'is', 'doing', '?', 'Is', 'it', 'different', 'on', 'the', 'men', \"'s\", 'tour', 'than', 'the', 'women', \"'s\", 'tour', '?', \"'\", 'No', ',', 'not', 'at', 'all', '.', '\\n', 'I', 'think', 'just', 'because', 'you', \"'re\", 'in', 'the', 'same', 'sport', 'does', \"n't\", 'mean', 'that', 'you', 'have', 'to', 'be', 'friends', 'with', 'everyone', 'just', 'because', 'you', \"'re\", 'categorized', ',', 'you', \"'re\", 'a', 'tennis', 'player', ',', 'so', 'you', \"'re\", 'going', 'to', 'get', 'along', 'with', 'tennis', 'players', '.', '\\n', 'I', 'think', 'every', 'person', 'has', 'different', 'interests', '.', 'I', 'have', 'friends', 'that', 'have', 'completely', 'different', 'jobs', 'and', 'interests', ',', 'and', 'I', \"'ve\", 'met', 'them', 'in', 'very', 'different', 'parts', 'of', 'my', 'life', '.', '\\n', 'I', 'think', 'everyone', 'just', 'thinks', 'because', 'we', \"'re\", 'tennis', 'players', 'we', 'should', 'be', 'the', 'greatest', 'of', 'friends', '.', 'But', 'ultimately', 'tennis', 'is', 'just', 'a', 'very', 'small', 'part', 'of', 'what', 'we', 'do', '.', '\\n', 'There', 'are', 'so', 'many', 'other', 'things', 'that', 'we', \"'re\", 'interested', 'in', ',', 'that', 'we', 'do', '.', \"'\", '\\n']\n"
          ]
        }
      ]
    },
    {
      "cell_type": "code",
      "metadata": {
        "id": "Tn2Uv-F3HDpw",
        "colab": {
          "base_uri": "https://localhost:8080/",
          "height": 35
        },
        "outputId": "dd7629b9-ddb7-4b69-ace7-b85237cf1987"
      },
      "source": [
        "punctuation = punctuation + '\\n'\n",
        "punctuation"
      ],
      "execution_count": 15,
      "outputs": [
        {
          "output_type": "execute_result",
          "data": {
            "text/plain": [
              "'!\"#$%&\\'()*+,-./:;<=>?@[\\\\]^_`{|}~\\n'"
            ],
            "application/vnd.google.colaboratory.intrinsic+json": {
              "type": "string"
            }
          },
          "metadata": {},
          "execution_count": 15
        }
      ]
    },
    {
      "cell_type": "code",
      "metadata": {
        "id": "huSfsmdrWK84"
      },
      "source": [
        "word_frequencies = {}\n",
        "for word in doc:\n",
        "  if word.text.lower() not in stopwords:\n",
        "    if word.text.lower() not in punctuation:\n",
        "      if word.text not in word_frequencies.keys():\n",
        "        word_frequencies[word.text] = 1\n",
        "      else:\n",
        "        word_frequencies[word.text] += 1"
      ],
      "execution_count": 16,
      "outputs": []
    },
    {
      "cell_type": "code",
      "metadata": {
        "id": "EgiBcbxFXZj2",
        "colab": {
          "base_uri": "https://localhost:8080/"
        },
        "outputId": "b0217da4-dc8c-4add-8565-d29e1ef9fd54"
      },
      "source": [
        "print(word_frequencies)"
      ],
      "execution_count": 17,
      "outputs": [
        {
          "output_type": "stream",
          "name": "stdout",
          "text": [
            "{'Maria': 1, 'Sharapova': 1, 'basically': 1, 'friends': 5, 'tennis': 6, 'players': 6, 'WTA': 1, 'Tour': 1, 'Russian': 1, 'player': 2, 'problems': 1, 'openly': 1, 'speaking': 1, 'recent': 1, 'interview': 1, 'said': 2, 'hide': 1, 'feelings': 1, 'think': 4, 'knows': 1, 'job': 1, 'courts': 2, 'court': 1, 'playing': 1, 'competitor': 1, 'want': 1, 'beat': 1, 'single': 1, 'person': 2, 'locker': 1, 'room': 1, 'net': 1, 'strike': 1, 'conversation': 1, 'weather': 1, 'know': 1, 'minutes': 1, 'try': 1, 'win': 1, 'match': 1, 'pretty': 1, 'competitive': 1, 'girl': 1, 'hellos': 1, 'sending': 1, 'flowers': 1, 'Uhm': 1, 'friendly': 1, 'close': 2, 'lot': 2, 'away': 1, 'strategic': 1, 'different': 4, 'men': 1, 'tour': 2, 'women': 1, 'sport': 1, 'mean': 1, 'categorized': 1, 'going': 1, 'interests': 2, 'completely': 1, 'jobs': 1, 'met': 1, 'parts': 1, 'life': 1, 'thinks': 1, 'greatest': 1, 'ultimately': 1, 'small': 1, 'things': 1, 'interested': 1}\n"
          ]
        }
      ]
    },
    {
      "cell_type": "code",
      "metadata": {
        "id": "59QpWTlkX6UC"
      },
      "source": [
        "max_frequency = max(word_frequencies.values())"
      ],
      "execution_count": 18,
      "outputs": []
    },
    {
      "cell_type": "code",
      "metadata": {
        "id": "oIQGF1vAYGoD",
        "colab": {
          "base_uri": "https://localhost:8080/"
        },
        "outputId": "eda7f4cd-6303-47af-deeb-7215418ac702"
      },
      "source": [
        "max_frequency"
      ],
      "execution_count": 19,
      "outputs": [
        {
          "output_type": "execute_result",
          "data": {
            "text/plain": [
              "6"
            ]
          },
          "metadata": {},
          "execution_count": 19
        }
      ]
    },
    {
      "cell_type": "code",
      "metadata": {
        "id": "Gx_S5rRXYX2H"
      },
      "source": [
        "for word in word_frequencies.keys():\n",
        "  word_frequencies[word] = word_frequencies[word]/max_frequency"
      ],
      "execution_count": 20,
      "outputs": []
    },
    {
      "cell_type": "code",
      "metadata": {
        "id": "H0QbAJA5YuG0",
        "colab": {
          "base_uri": "https://localhost:8080/"
        },
        "outputId": "49ad0327-42aa-4b2a-be04-8f0d36165d31"
      },
      "source": [
        "print(word_frequencies)"
      ],
      "execution_count": 21,
      "outputs": [
        {
          "output_type": "stream",
          "name": "stdout",
          "text": [
            "{'Maria': 0.16666666666666666, 'Sharapova': 0.16666666666666666, 'basically': 0.16666666666666666, 'friends': 0.8333333333333334, 'tennis': 1.0, 'players': 1.0, 'WTA': 0.16666666666666666, 'Tour': 0.16666666666666666, 'Russian': 0.16666666666666666, 'player': 0.3333333333333333, 'problems': 0.16666666666666666, 'openly': 0.16666666666666666, 'speaking': 0.16666666666666666, 'recent': 0.16666666666666666, 'interview': 0.16666666666666666, 'said': 0.3333333333333333, 'hide': 0.16666666666666666, 'feelings': 0.16666666666666666, 'think': 0.6666666666666666, 'knows': 0.16666666666666666, 'job': 0.16666666666666666, 'courts': 0.3333333333333333, 'court': 0.16666666666666666, 'playing': 0.16666666666666666, 'competitor': 0.16666666666666666, 'want': 0.16666666666666666, 'beat': 0.16666666666666666, 'single': 0.16666666666666666, 'person': 0.3333333333333333, 'locker': 0.16666666666666666, 'room': 0.16666666666666666, 'net': 0.16666666666666666, 'strike': 0.16666666666666666, 'conversation': 0.16666666666666666, 'weather': 0.16666666666666666, 'know': 0.16666666666666666, 'minutes': 0.16666666666666666, 'try': 0.16666666666666666, 'win': 0.16666666666666666, 'match': 0.16666666666666666, 'pretty': 0.16666666666666666, 'competitive': 0.16666666666666666, 'girl': 0.16666666666666666, 'hellos': 0.16666666666666666, 'sending': 0.16666666666666666, 'flowers': 0.16666666666666666, 'Uhm': 0.16666666666666666, 'friendly': 0.16666666666666666, 'close': 0.3333333333333333, 'lot': 0.3333333333333333, 'away': 0.16666666666666666, 'strategic': 0.16666666666666666, 'different': 0.6666666666666666, 'men': 0.16666666666666666, 'tour': 0.3333333333333333, 'women': 0.16666666666666666, 'sport': 0.16666666666666666, 'mean': 0.16666666666666666, 'categorized': 0.16666666666666666, 'going': 0.16666666666666666, 'interests': 0.3333333333333333, 'completely': 0.16666666666666666, 'jobs': 0.16666666666666666, 'met': 0.16666666666666666, 'parts': 0.16666666666666666, 'life': 0.16666666666666666, 'thinks': 0.16666666666666666, 'greatest': 0.16666666666666666, 'ultimately': 0.16666666666666666, 'small': 0.16666666666666666, 'things': 0.16666666666666666, 'interested': 0.16666666666666666}\n"
          ]
        }
      ]
    },
    {
      "cell_type": "code",
      "metadata": {
        "id": "d9vbQAUDZCUV",
        "colab": {
          "base_uri": "https://localhost:8080/"
        },
        "outputId": "6185f251-2658-4f23-bf48-5917be797350"
      },
      "source": [
        "sentence_tokens = [sent for sent in doc.sents]\n",
        "print(sentence_tokens)"
      ],
      "execution_count": 22,
      "outputs": [
        {
          "output_type": "stream",
          "name": "stdout",
          "text": [
            "[\n",
            "Maria Sharapova has basically no friends as tennis players on the WTA Tour., The Russian player has no problems in openly speaking about it and in a recent interview she said: 'I don't really hide any feelings too much. \n",
            ", I think everyone knows this is my job here., When I'm on the courts or when I'm on the court playing, I'm a competitor and I want to beat every single person whether they're in the locker room or across the net.\n",
            ", So I'm not the one to strike up a conversation about the weather and know that in the next few minutes I have to go and try to win a tennis match. \n",
            ", I'm a pretty competitive girl., I say my hellos, but I'm not sending any players flowers as well., Uhm, I'm not really friendly or close to many players.\n",
            ", I have not a lot of friends away from the courts.', When she said she is not really close to a lot of players, is that something strategic that she is doing?, Is it different on the men's tour than the women's tour?, ', No, not at all.\n",
            ", I think just because you're in the same sport doesn't mean that you have to be friends with everyone just because you're categorized, you're a tennis player, so you're going to get along with tennis players. \n",
            ", I think every person has different interests., I have friends that have completely different jobs and interests, and I've met them in very different parts of my life.\n",
            ", I think everyone just thinks because we're tennis players we should be the greatest of friends., But ultimately tennis is just a very small part of what we do. \n",
            ", There are so many other things that we're interested in, that we do.'\n",
            "]\n"
          ]
        }
      ]
    },
    {
      "cell_type": "code",
      "metadata": {
        "id": "-3Ee54JWZk5G"
      },
      "source": [
        "sentence_scores = {}\n",
        "for sent in sentence_tokens:\n",
        "  for word in sent:\n",
        "    if word.text.lower() in word_frequencies.keys():\n",
        "      if sent not in sentence_scores.keys():\n",
        "        sentence_scores[sent] = word_frequencies[word.text.lower()]\n",
        "      else:\n",
        "        sentence_scores[sent] += word_frequencies[word.text.lower()]\n"
      ],
      "execution_count": 23,
      "outputs": []
    },
    {
      "cell_type": "code",
      "metadata": {
        "id": "eHuAYodnIg5I",
        "colab": {
          "base_uri": "https://localhost:8080/"
        },
        "outputId": "f75f7d00-66ff-4d8b-f190-6162cc33eb10"
      },
      "source": [
        "sentence_scores"
      ],
      "execution_count": 24,
      "outputs": [
        {
          "output_type": "execute_result",
          "data": {
            "text/plain": [
              "{\n",
              " Maria Sharapova has basically no friends as tennis players on the WTA Tour.: 3.3333333333333335,\n",
              " The Russian player has no problems in openly speaking about it and in a recent interview she said: 'I don't really hide any feelings too much. : 1.8333333333333333,\n",
              " I think everyone knows this is my job here.: 0.9999999999999999,\n",
              " When I'm on the courts or when I'm on the court playing, I'm a competitor and I want to beat every single person whether they're in the locker room or across the net.: 2.1666666666666665,\n",
              " So I'm not the one to strike up a conversation about the weather and know that in the next few minutes I have to go and try to win a tennis match. : 2.333333333333333,\n",
              " I'm a pretty competitive girl.: 0.5,\n",
              " I say my hellos, but I'm not sending any players flowers as well.: 1.5,\n",
              " Uhm, I'm not really friendly or close to many players.: 1.5,\n",
              " I have not a lot of friends away from the courts.': 1.6666666666666667,\n",
              " When she said she is not really close to a lot of players, is that something strategic that she is doing?: 2.1666666666666665,\n",
              " Is it different on the men's tour than the women's tour?: 1.6666666666666665,\n",
              " I think just because you're in the same sport doesn't mean that you have to be friends with everyone just because you're categorized, you're a tennis player, so you're going to get along with tennis players. : 5.5,\n",
              " I think every person has different interests.: 1.9999999999999998,\n",
              " I have friends that have completely different jobs and interests, and I've met them in very different parts of my life.: 3.3333333333333326,\n",
              " I think everyone just thinks because we're tennis players we should be the greatest of friends.: 3.833333333333333,\n",
              " But ultimately tennis is just a very small part of what we do. : 1.3333333333333335,\n",
              " There are so many other things that we're interested in, that we do.': 0.3333333333333333}"
            ]
          },
          "metadata": {},
          "execution_count": 24
        }
      ]
    },
    {
      "cell_type": "code",
      "metadata": {
        "id": "-8BICcjZJCpU"
      },
      "source": [
        "from heapq import nlargest"
      ],
      "execution_count": 25,
      "outputs": []
    },
    {
      "cell_type": "code",
      "metadata": {
        "id": "n7QOpoldJTcY",
        "colab": {
          "base_uri": "https://localhost:8080/"
        },
        "outputId": "ac9fbe56-b476-42f7-842a-dbdc3019badb"
      },
      "source": [
        "select_length = int(len(sentence_tokens)*0.3)\n",
        "select_length"
      ],
      "execution_count": 26,
      "outputs": [
        {
          "output_type": "execute_result",
          "data": {
            "text/plain": [
              "5"
            ]
          },
          "metadata": {},
          "execution_count": 26
        }
      ]
    },
    {
      "cell_type": "code",
      "metadata": {
        "id": "0qYYWV82JygM"
      },
      "source": [
        "summary = nlargest(select_length, sentence_scores, key = sentence_scores.get)"
      ],
      "execution_count": 27,
      "outputs": []
    },
    {
      "cell_type": "code",
      "metadata": {
        "id": "TR5wQN6UKDrt",
        "colab": {
          "base_uri": "https://localhost:8080/"
        },
        "outputId": "a35b68df-e607-442f-a9ce-7695ed1234b9"
      },
      "source": [
        "summary"
      ],
      "execution_count": 28,
      "outputs": [
        {
          "output_type": "execute_result",
          "data": {
            "text/plain": [
              "[I think just because you're in the same sport doesn't mean that you have to be friends with everyone just because you're categorized, you're a tennis player, so you're going to get along with tennis players. ,\n",
              " I think everyone just thinks because we're tennis players we should be the greatest of friends.,\n",
              " \n",
              " Maria Sharapova has basically no friends as tennis players on the WTA Tour.,\n",
              " I have friends that have completely different jobs and interests, and I've met them in very different parts of my life.,\n",
              " So I'm not the one to strike up a conversation about the weather and know that in the next few minutes I have to go and try to win a tennis match. ]"
            ]
          },
          "metadata": {},
          "execution_count": 28
        }
      ]
    },
    {
      "cell_type": "code",
      "metadata": {
        "id": "k3cGqkqaKWnT"
      },
      "source": [
        "final_summary = [word.text for word in summary]"
      ],
      "execution_count": 29,
      "outputs": []
    },
    {
      "cell_type": "code",
      "metadata": {
        "id": "1pw4ElbUKpMB"
      },
      "source": [
        "summary = ' '.join(final_summary)"
      ],
      "execution_count": 30,
      "outputs": []
    },
    {
      "cell_type": "code",
      "metadata": {
        "id": "Wa66EgbzLIgR",
        "colab": {
          "base_uri": "https://localhost:8080/"
        },
        "outputId": "380cfe1b-0d88-4cb7-d86b-e4761e653ebe"
      },
      "source": [
        "print(text)"
      ],
      "execution_count": 31,
      "outputs": [
        {
          "output_type": "stream",
          "name": "stdout",
          "text": [
            "\n",
            "Maria Sharapova has basically no friends as tennis players on the WTA Tour. The Russian player has no problems in openly speaking about it and in a recent interview she said: 'I don't really hide any feelings too much. \n",
            "I think everyone knows this is my job here. When I'm on the courts or when I'm on the court playing, I'm a competitor and I want to beat every single person whether they're in the locker room or across the net.\n",
            "So I'm not the one to strike up a conversation about the weather and know that in the next few minutes I have to go and try to win a tennis match. \n",
            "I'm a pretty competitive girl. I say my hellos, but I'm not sending any players flowers as well. Uhm, I'm not really friendly or close to many players.\n",
            "I have not a lot of friends away from the courts.' When she said she is not really close to a lot of players, is that something strategic that she is doing? Is it different on the men's tour than the women's tour? 'No, not at all.\n",
            "I think just because you're in the same sport doesn't mean that you have to be friends with everyone just because you're categorized, you're a tennis player, so you're going to get along with tennis players. \n",
            "I think every person has different interests. I have friends that have completely different jobs and interests, and I've met them in very different parts of my life.\n",
            "I think everyone just thinks because we're tennis players we should be the greatest of friends. But ultimately tennis is just a very small part of what we do. \n",
            "There are so many other things that we're interested in, that we do.'\n",
            "\n"
          ]
        }
      ]
    },
    {
      "cell_type": "code",
      "metadata": {
        "id": "no_-dxurKz1c",
        "colab": {
          "base_uri": "https://localhost:8080/"
        },
        "outputId": "8945fafb-f949-410b-b9bf-09053e11281a"
      },
      "source": [
        "print(summary)"
      ],
      "execution_count": 32,
      "outputs": [
        {
          "output_type": "stream",
          "name": "stdout",
          "text": [
            "I think just because you're in the same sport doesn't mean that you have to be friends with everyone just because you're categorized, you're a tennis player, so you're going to get along with tennis players. \n",
            " I think everyone just thinks because we're tennis players we should be the greatest of friends. \n",
            "Maria Sharapova has basically no friends as tennis players on the WTA Tour. I have friends that have completely different jobs and interests, and I've met them in very different parts of my life.\n",
            " So I'm not the one to strike up a conversation about the weather and know that in the next few minutes I have to go and try to win a tennis match. \n",
            "\n"
          ]
        }
      ]
    }
  ]
}